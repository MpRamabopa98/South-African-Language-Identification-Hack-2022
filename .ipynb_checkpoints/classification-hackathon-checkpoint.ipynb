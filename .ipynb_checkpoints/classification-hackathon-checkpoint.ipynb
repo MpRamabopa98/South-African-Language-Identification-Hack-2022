{
 "cells": [
  {
   "cell_type": "markdown",
   "id": "9ddec221-5918-408d-bb99-0c905a301e18",
   "metadata": {},
   "source": [
    "# South African Language Identification Hack 2022\n",
    "# EDSA 2201 & 2207 classification hackathon\n",
    "© Explore Data Science Academy\n"
   ]
  },
  {
   "cell_type": "markdown",
   "id": "413a52da-426f-4be9-8c56-7ced22b7ae79",
   "metadata": {},
   "source": [
    "## Honour Code\n",
    "I **Mahlatse Philix, Ramabopa**, confirm - by submitting this document - that the solutions in this notebook are a result of my own work and that I abide by the EDSA honour code (https://drive.google.com/file/d/1QDCjGZJ8-FmJE3bZdIQNwnJyQKPhHZBn/view?usp=sharing).  \n",
    "\n",
    "Non-compliance with the honour code constitutes a material breach of contract."
   ]
  },
  {
   "cell_type": "markdown",
   "id": "3439f130-6f37-43c1-b9a7-95851f7aaa6a",
   "metadata": {},
   "source": [
    "## EXPLORE Data Science Academy Classification Hackathon\n",
    "### Overview\n",
    "\n",
    "South Africa is a multicultural society that is characterised by its rich linguistic diversity. Language is an indispensable tool that can be used to deepen democracy and also contribute to the social, cultural, intellectual, economic and political life of the South African society.\n",
    "\n",
    "The country is multilingual with 11 official languages, each of which is guaranteed equal status. Most South Africans are multilingual and able to speak at least two or more of the official languages.\n",
    "\n",
    "From South African Government\n"
   ]
  },
  {
   "cell_type": "markdown",
   "id": "4bf67e96-3dff-46bc-b0c9-f88165009a3a",
   "metadata": {},
   "source": [
    "<a id=\"cont\"></a>\n",
    "\n",
    "## Table of Contents\n",
    "\n",
    "<a href=#one>1. Importing Packages</a>\n",
    "\n",
    "<a href=#two>2. Loading Data</a>\n",
    "\n",
    "<a href=#three>3. Preprocessing</a>\n",
    "\n",
    "<a href=#four>4. Exploratory Data Analysis (EDA)</a>\n",
    "\n",
    "<a href=#five>5. Modeling</a>\n",
    "\n",
    "<a href=#six>6. Model Explanations</a>\n"
   ]
  },
  {
   "cell_type": "markdown",
   "id": "a507ed38-461b-436f-9b51-edfd1f56c1ff",
   "metadata": {},
   "source": [
    " \n",
    "-----------------------------------------------------------------------------------------------------\n",
    " "
   ]
  },
  {
   "cell_type": "markdown",
   "id": "5d552a45-10c0-41a8-9a73-c228a6ce90ff",
   "metadata": {},
   "source": [
    "///////////////////////////////////////////////////////////////////////////////////////////////////////////////////////////////////////////////////////////////////////////////////////////////////"
   ]
  },
  {
   "cell_type": "markdown",
   "id": "e07ecd43-4a07-4723-b054-76f42a0a82d1",
   "metadata": {},
   "source": [
    "\n",
    "<a id=\"one\"></a>\n",
    "## 1. Importing Packages\n",
    "<a href=#cont>Back to Table of Contents</a>\n"
   ]
  },
  {
   "cell_type": "code",
   "execution_count": 25,
   "id": "40565357-1f56-4a2f-9c7c-d488c1e24fb1",
   "metadata": {},
   "outputs": [],
   "source": [
    "\n",
    "# Importing modules\n",
    "import nltk\n",
    "\n",
    "import numpy as np\n",
    "import pandas as pd\n",
    "\n",
    "import matplotlib.pyplot as plt\n",
    "import seaborn as sns\n",
    "import re\n",
    "\n",
    "# Magic function to enable graphs and plots to be plotted below the cell where your plotting commands are written\n",
    "%matplotlib inline\n",
    "\n",
    "# Set plot style\n",
    "sns.set()\n",
    "\n",
    "from sklearn import metrics\n",
    "\n",
    "from sklearn.feature_extraction.text import CountVectorizer\n",
    "from sklearn.model_selection import train_test_split\n",
    "\n",
    "# Importing Model Modules\n",
    "from sklearn.linear_model import LogisticRegression\n",
    "from sklearn.ensemble import RandomForestClassifier\n",
    "from sklearn.naive_bayes import MultinomialNB\n"
   ]
  },
  {
   "cell_type": "markdown",
   "id": "452b94a6-8d71-428e-9344-cf61c2c77e31",
   "metadata": {},
   "source": [
    " \n",
    "-----------------------------------------------------------------------------------------------------\n",
    " "
   ]
  },
  {
   "cell_type": "markdown",
   "id": "c83feef9-d9f5-459b-8e2c-b8ca97b732cb",
   "metadata": {},
   "source": [
    "///////////////////////////////////////////////////////////////////////////////////////////////////////////////////////////////////////////////////////////////////////////////////////////////////"
   ]
  },
  {
   "cell_type": "markdown",
   "id": "46a87367-3b02-4683-9f18-45f2cd1dd199",
   "metadata": {},
   "source": [
    "\n",
    "<a id=\"two\"></a>\n",
    "## 2. Loading Data\n",
    "<a class=\"anchor\" id=\"1.1\"></a>\n",
    "<a href=#cont>Back to Table of Contents</a>\n"
   ]
  },
  {
   "cell_type": "code",
   "execution_count": 26,
   "id": "faf93a06-b503-4d8f-a8b5-4239da4c1c7c",
   "metadata": {},
   "outputs": [],
   "source": [
    "\n",
    "# Loading the training data for the model \n",
    "df_train = pd.read_csv(\"train_set.csv\")\n"
   ]
  },
  {
   "cell_type": "code",
   "execution_count": 27,
   "id": "4441f595-c9e7-4eab-b6ed-ae1c84b6d652",
   "metadata": {},
   "outputs": [],
   "source": [
    "\n",
    "# Loading the testing data for the model \n",
    "df_test = pd.read_csv(\"test_set.csv\")\n"
   ]
  },
  {
   "cell_type": "markdown",
   "id": "af15179b-260a-4593-8f3c-edb37c56d49c",
   "metadata": {},
   "source": [
    " \n",
    "-----------------------------------------------------------------------------------------------------\n",
    " "
   ]
  },
  {
   "cell_type": "markdown",
   "id": "e1758d19-bc06-428f-a571-0e142b9042e7",
   "metadata": {},
   "source": [
    "///////////////////////////////////////////////////////////////////////////////////////////////////////////////////////////////////////////////////////////////////////////////////////////////////"
   ]
  },
  {
   "cell_type": "markdown",
   "id": "b36b2ea2-969f-419e-a657-d9c24c94184d",
   "metadata": {},
   "source": [
    "\n",
    "<a id=\"three\"></a>\n",
    "## 3. Exploratory Data Analysis (EDA)\n",
    "<a class=\"anchor\" id=\"1.1\"></a>\n",
    "<a href=#cont>Back to Table of Contents</a>\n"
   ]
  },
  {
   "cell_type": "code",
   "execution_count": 28,
   "id": "93dade94-7e0c-48db-ba7b-13cfa3dd64c0",
   "metadata": {},
   "outputs": [
    {
     "data": {
      "text/plain": [
       "lang_id    object\n",
       "text       object\n",
       "dtype: object"
      ]
     },
     "execution_count": 28,
     "metadata": {},
     "output_type": "execute_result"
    }
   ],
   "source": [
    "\n",
    "# Checking the data types of all the columns I have in my data\n",
    "df_train.dtypes\n"
   ]
  },
  {
   "cell_type": "code",
   "execution_count": 29,
   "id": "c82b914b-e411-4de3-a487-c964c4d4bbd3",
   "metadata": {},
   "outputs": [
    {
     "data": {
      "text/plain": [
       "index     int64\n",
       "text     object\n",
       "dtype: object"
      ]
     },
     "execution_count": 29,
     "metadata": {},
     "output_type": "execute_result"
    }
   ],
   "source": [
    "\n",
    "# Checking the data types of all the columns I have In the test data\n",
    "df_test.dtypes\n"
   ]
  },
  {
   "cell_type": "code",
   "execution_count": 30,
   "id": "bf17666a-980c-47e4-8eaf-cfa44e892805",
   "metadata": {},
   "outputs": [
    {
     "data": {
      "text/plain": [
       "(33000, 2)"
      ]
     },
     "execution_count": 30,
     "metadata": {},
     "output_type": "execute_result"
    }
   ],
   "source": [
    "\n",
    "# Viewing the dimension of the size of the train DataFrame\n",
    "df_train.shape\n"
   ]
  },
  {
   "cell_type": "code",
   "execution_count": 31,
   "id": "91808c92-4b2a-4385-96d3-eeff526adf5f",
   "metadata": {},
   "outputs": [
    {
     "data": {
      "text/plain": [
       "(5682, 2)"
      ]
     },
     "execution_count": 31,
     "metadata": {},
     "output_type": "execute_result"
    }
   ],
   "source": [
    "\n",
    "# Viewing the dimension of the size of test DataFrame\n",
    "df_test.shape\n"
   ]
  },
  {
   "cell_type": "code",
   "execution_count": 32,
   "id": "b376564f-9858-4da4-be49-39cc93277a0c",
   "metadata": {},
   "outputs": [
    {
     "name": "stdout",
     "output_type": "stream",
     "text": [
      "<class 'pandas.core.frame.DataFrame'>\n",
      "RangeIndex: 33000 entries, 0 to 32999\n",
      "Data columns (total 2 columns):\n",
      " #   Column   Non-Null Count  Dtype \n",
      "---  ------   --------------  ----- \n",
      " 0   lang_id  33000 non-null  object\n",
      " 1   text     33000 non-null  object\n",
      "dtypes: object(2)\n",
      "memory usage: 515.8+ KB\n"
     ]
    }
   ],
   "source": [
    "\n",
    "# Viewing the data type info for the train data\n",
    "df_train.info()\n"
   ]
  },
  {
   "cell_type": "code",
   "execution_count": 33,
   "id": "90fd6a46-275d-4bef-be35-b110a6e0c2ff",
   "metadata": {},
   "outputs": [
    {
     "name": "stdout",
     "output_type": "stream",
     "text": [
      "<class 'pandas.core.frame.DataFrame'>\n",
      "RangeIndex: 5682 entries, 0 to 5681\n",
      "Data columns (total 2 columns):\n",
      " #   Column  Non-Null Count  Dtype \n",
      "---  ------  --------------  ----- \n",
      " 0   index   5682 non-null   int64 \n",
      " 1   text    5682 non-null   object\n",
      "dtypes: int64(1), object(1)\n",
      "memory usage: 88.9+ KB\n"
     ]
    }
   ],
   "source": [
    "\n",
    "# Viewing the data type info for the test data\n",
    "df_test.info()\n"
   ]
  },
  {
   "cell_type": "code",
   "execution_count": 34,
   "id": "e66ce7e0-e608-454a-b144-30d505f29f08",
   "metadata": {},
   "outputs": [
    {
     "data": {
      "text/plain": [
       "lang_id    0\n",
       "text       0\n",
       "dtype: int64"
      ]
     },
     "execution_count": 34,
     "metadata": {},
     "output_type": "execute_result"
    }
   ],
   "source": [
    "\n",
    "# Looking into the 'df_train' to check for missing values \n",
    "df_train.isnull().sum()\n"
   ]
  },
  {
   "cell_type": "code",
   "execution_count": 35,
   "id": "8d94802f-56b6-4bf0-b06f-701e308472d0",
   "metadata": {},
   "outputs": [
    {
     "data": {
      "text/plain": [
       "index    0\n",
       "text     0\n",
       "dtype: int64"
      ]
     },
     "execution_count": 35,
     "metadata": {},
     "output_type": "execute_result"
    }
   ],
   "source": [
    "\n",
    "# Looking into our 'df_test' to check for missing values \n",
    "df_test.isnull().sum()\n"
   ]
  },
  {
   "cell_type": "markdown",
   "id": "25897e52-ab21-4343-b145-62c8ee7fec57",
   "metadata": {},
   "source": [
    "\n",
    "- I found out that my dataset does not have any missing values and they are both of the same data type.\n"
   ]
  },
  {
   "cell_type": "markdown",
   "id": "0c59ddec-3b0a-4ca1-b4d6-65e51ca3a759",
   "metadata": {},
   "source": [
    " \n",
    " -----------------------------------------------------------------------------------------------------\n",
    " "
   ]
  },
  {
   "cell_type": "markdown",
   "id": "80a9ab47-c875-444b-bcea-0389b0453087",
   "metadata": {},
   "source": [
    "///////////////////////////////////////////////////////////////////////////////////////////////////////////////////////////////////////////////////////////////////////////////////////////////////"
   ]
  },
  {
   "cell_type": "markdown",
   "id": "1e8802ce-4588-46f3-bee6-5e693e5d39a4",
   "metadata": {},
   "source": [
    "\n",
    "<a id=\"four\"></a>\n",
    "## 4. Preprocessing\n",
    "<a class=\"anchor\" id=\"1.1\"></a>\n",
    "<a href=#cont>Back to Table of Contents</a>\n"
   ]
  },
  {
   "cell_type": "code",
   "execution_count": 37,
   "id": "e35b6bd2-9429-4274-b75e-0191d4f9efc2",
   "metadata": {},
   "outputs": [
    {
     "data": {
      "text/html": [
       "<div>\n",
       "<style scoped>\n",
       "    .dataframe tbody tr th:only-of-type {\n",
       "        vertical-align: middle;\n",
       "    }\n",
       "\n",
       "    .dataframe tbody tr th {\n",
       "        vertical-align: top;\n",
       "    }\n",
       "\n",
       "    .dataframe thead th {\n",
       "        text-align: right;\n",
       "    }\n",
       "</style>\n",
       "<table border=\"1\" class=\"dataframe\">\n",
       "  <thead>\n",
       "    <tr style=\"text-align: right;\">\n",
       "      <th></th>\n",
       "      <th>lang_id</th>\n",
       "      <th>text</th>\n",
       "    </tr>\n",
       "  </thead>\n",
       "  <tbody>\n",
       "    <tr>\n",
       "      <th>0</th>\n",
       "      <td>xho</td>\n",
       "      <td>umgaqo-siseko wenza amalungiselelo kumaziko ax...</td>\n",
       "    </tr>\n",
       "    <tr>\n",
       "      <th>1</th>\n",
       "      <td>xho</td>\n",
       "      <td>i-dha iya kuba nobulumko bokubeka umsebenzi na...</td>\n",
       "    </tr>\n",
       "    <tr>\n",
       "      <th>2</th>\n",
       "      <td>eng</td>\n",
       "      <td>the province of kwazulu-natal department of tr...</td>\n",
       "    </tr>\n",
       "    <tr>\n",
       "      <th>3</th>\n",
       "      <td>nso</td>\n",
       "      <td>o netefatša gore o ba file dilo ka moka tše le...</td>\n",
       "    </tr>\n",
       "    <tr>\n",
       "      <th>4</th>\n",
       "      <td>ven</td>\n",
       "      <td>khomishini ya ndinganyiso ya mbeu yo ewa maana...</td>\n",
       "    </tr>\n",
       "  </tbody>\n",
       "</table>\n",
       "</div>"
      ],
      "text/plain": [
       "  lang_id                                               text\n",
       "0     xho  umgaqo-siseko wenza amalungiselelo kumaziko ax...\n",
       "1     xho  i-dha iya kuba nobulumko bokubeka umsebenzi na...\n",
       "2     eng  the province of kwazulu-natal department of tr...\n",
       "3     nso  o netefatša gore o ba file dilo ka moka tše le...\n",
       "4     ven  khomishini ya ndinganyiso ya mbeu yo ewa maana..."
      ]
     },
     "execution_count": 37,
     "metadata": {},
     "output_type": "execute_result"
    }
   ],
   "source": [
    "\n",
    "# Viewing the first five row of the train data\n",
    "df_train.head()\n"
   ]
  },
  {
   "cell_type": "code",
   "execution_count": 38,
   "id": "d4e00cde-5ee4-401f-ae96-2925a886f77e",
   "metadata": {},
   "outputs": [
    {
     "data": {
      "text/html": [
       "<div>\n",
       "<style scoped>\n",
       "    .dataframe tbody tr th:only-of-type {\n",
       "        vertical-align: middle;\n",
       "    }\n",
       "\n",
       "    .dataframe tbody tr th {\n",
       "        vertical-align: top;\n",
       "    }\n",
       "\n",
       "    .dataframe thead th {\n",
       "        text-align: right;\n",
       "    }\n",
       "</style>\n",
       "<table border=\"1\" class=\"dataframe\">\n",
       "  <thead>\n",
       "    <tr style=\"text-align: right;\">\n",
       "      <th></th>\n",
       "      <th>lang_id</th>\n",
       "      <th>text</th>\n",
       "    </tr>\n",
       "  </thead>\n",
       "  <tbody>\n",
       "    <tr>\n",
       "      <th>32995</th>\n",
       "      <td>tsn</td>\n",
       "      <td>popo ya dipolateforomo tse ke go tlisa boetele...</td>\n",
       "    </tr>\n",
       "    <tr>\n",
       "      <th>32996</th>\n",
       "      <td>sot</td>\n",
       "      <td>modise mosadi na o ntse o sa utlwe hore thaban...</td>\n",
       "    </tr>\n",
       "    <tr>\n",
       "      <th>32997</th>\n",
       "      <td>eng</td>\n",
       "      <td>closing date for the submission of completed t...</td>\n",
       "    </tr>\n",
       "    <tr>\n",
       "      <th>32998</th>\n",
       "      <td>xho</td>\n",
       "      <td>nawuphina umntu ofunyenwe enetyala phantsi kwa...</td>\n",
       "    </tr>\n",
       "    <tr>\n",
       "      <th>32999</th>\n",
       "      <td>sot</td>\n",
       "      <td>mafapha a mang le ona a lokela ho etsa ditlale...</td>\n",
       "    </tr>\n",
       "  </tbody>\n",
       "</table>\n",
       "</div>"
      ],
      "text/plain": [
       "      lang_id                                               text\n",
       "32995     tsn  popo ya dipolateforomo tse ke go tlisa boetele...\n",
       "32996     sot  modise mosadi na o ntse o sa utlwe hore thaban...\n",
       "32997     eng  closing date for the submission of completed t...\n",
       "32998     xho  nawuphina umntu ofunyenwe enetyala phantsi kwa...\n",
       "32999     sot  mafapha a mang le ona a lokela ho etsa ditlale..."
      ]
     },
     "execution_count": 38,
     "metadata": {},
     "output_type": "execute_result"
    }
   ],
   "source": [
    "\n",
    "# Viewing the last five row of the train data\n",
    "df_train.tail()\n"
   ]
  },
  {
   "cell_type": "code",
   "execution_count": 39,
   "id": "ce45b32a-d2ca-4f86-a72b-1726ae7009b6",
   "metadata": {},
   "outputs": [
    {
     "data": {
      "text/html": [
       "<div>\n",
       "<style scoped>\n",
       "    .dataframe tbody tr th:only-of-type {\n",
       "        vertical-align: middle;\n",
       "    }\n",
       "\n",
       "    .dataframe tbody tr th {\n",
       "        vertical-align: top;\n",
       "    }\n",
       "\n",
       "    .dataframe thead th {\n",
       "        text-align: right;\n",
       "    }\n",
       "</style>\n",
       "<table border=\"1\" class=\"dataframe\">\n",
       "  <thead>\n",
       "    <tr style=\"text-align: right;\">\n",
       "      <th></th>\n",
       "      <th>index</th>\n",
       "      <th>text</th>\n",
       "    </tr>\n",
       "  </thead>\n",
       "  <tbody>\n",
       "    <tr>\n",
       "      <th>0</th>\n",
       "      <td>1</td>\n",
       "      <td>Mmasepala, fa maemo a a kgethegileng a letlele...</td>\n",
       "    </tr>\n",
       "    <tr>\n",
       "      <th>1</th>\n",
       "      <td>2</td>\n",
       "      <td>Uzakwaziswa ngokufaneleko nakungafuneka eminye...</td>\n",
       "    </tr>\n",
       "    <tr>\n",
       "      <th>2</th>\n",
       "      <td>3</td>\n",
       "      <td>Tshivhumbeo tshi fana na ngano dza vhathu.</td>\n",
       "    </tr>\n",
       "    <tr>\n",
       "      <th>3</th>\n",
       "      <td>4</td>\n",
       "      <td>Kube inja nelikati betingevakala kutsi titsini...</td>\n",
       "    </tr>\n",
       "    <tr>\n",
       "      <th>4</th>\n",
       "      <td>5</td>\n",
       "      <td>Winste op buitelandse valuta.</td>\n",
       "    </tr>\n",
       "  </tbody>\n",
       "</table>\n",
       "</div>"
      ],
      "text/plain": [
       "   index                                               text\n",
       "0      1  Mmasepala, fa maemo a a kgethegileng a letlele...\n",
       "1      2  Uzakwaziswa ngokufaneleko nakungafuneka eminye...\n",
       "2      3         Tshivhumbeo tshi fana na ngano dza vhathu.\n",
       "3      4  Kube inja nelikati betingevakala kutsi titsini...\n",
       "4      5                      Winste op buitelandse valuta."
      ]
     },
     "execution_count": 39,
     "metadata": {},
     "output_type": "execute_result"
    }
   ],
   "source": [
    "\n",
    "# Viewing the first five row of the test data\n",
    "df_test.head()\n"
   ]
  },
  {
   "cell_type": "code",
   "execution_count": 16,
   "id": "a859231a-e3e0-4921-83c7-12a93e020883",
   "metadata": {},
   "outputs": [
    {
     "data": {
      "text/html": [
       "<div>\n",
       "<style scoped>\n",
       "    .dataframe tbody tr th:only-of-type {\n",
       "        vertical-align: middle;\n",
       "    }\n",
       "\n",
       "    .dataframe tbody tr th {\n",
       "        vertical-align: top;\n",
       "    }\n",
       "\n",
       "    .dataframe thead th {\n",
       "        text-align: right;\n",
       "    }\n",
       "</style>\n",
       "<table border=\"1\" class=\"dataframe\">\n",
       "  <thead>\n",
       "    <tr style=\"text-align: right;\">\n",
       "      <th></th>\n",
       "      <th>index</th>\n",
       "      <th>text</th>\n",
       "    </tr>\n",
       "  </thead>\n",
       "  <tbody>\n",
       "    <tr>\n",
       "      <th>5677</th>\n",
       "      <td>5678</td>\n",
       "      <td>You mark your ballot in private.</td>\n",
       "    </tr>\n",
       "    <tr>\n",
       "      <th>5678</th>\n",
       "      <td>5679</td>\n",
       "      <td>Ge o ka kgetha ka bowena go se šomiše Mofani k...</td>\n",
       "    </tr>\n",
       "    <tr>\n",
       "      <th>5679</th>\n",
       "      <td>5680</td>\n",
       "      <td>E Ka kopo etsa kgetho ya hao ka hloko, hobane ...</td>\n",
       "    </tr>\n",
       "    <tr>\n",
       "      <th>5680</th>\n",
       "      <td>5681</td>\n",
       "      <td>TB ke bokudi ba PMB, mme Morero o tla lefella ...</td>\n",
       "    </tr>\n",
       "    <tr>\n",
       "      <th>5681</th>\n",
       "      <td>5682</td>\n",
       "      <td>Vakatjhela iwebhusayidi yethu ku-www.</td>\n",
       "    </tr>\n",
       "  </tbody>\n",
       "</table>\n",
       "</div>"
      ],
      "text/plain": [
       "      index                                               text\n",
       "5677   5678                   You mark your ballot in private.\n",
       "5678   5679  Ge o ka kgetha ka bowena go se šomiše Mofani k...\n",
       "5679   5680  E Ka kopo etsa kgetho ya hao ka hloko, hobane ...\n",
       "5680   5681  TB ke bokudi ba PMB, mme Morero o tla lefella ...\n",
       "5681   5682              Vakatjhela iwebhusayidi yethu ku-www."
      ]
     },
     "execution_count": 16,
     "metadata": {},
     "output_type": "execute_result"
    }
   ],
   "source": [
    "\n",
    "# Viewing the last five row of the train data\n",
    "df_test.tail()\n"
   ]
  },
  {
   "cell_type": "markdown",
   "id": "6c1c037c-1ea8-4a88-847c-9ea8e3cb3833",
   "metadata": {},
   "source": [
    "\n",
    "From viewing the first and last 5 rows of my dataset, i observed that the `df_train` dataset is clean and the `df_test` is not clean because it contains some noise of capitalisation, punctuations and numbers.\n",
    "\n",
    "##### Data Cleaning on `df_train` and `df_test`\n",
    "\n",
    "- Making all text lowercase, removing numbers and punctuations\n"
   ]
  },
  {
   "cell_type": "code",
   "execution_count": 40,
   "id": "e291a8e7-6eb9-489d-9746-42dfdd18665a",
   "metadata": {},
   "outputs": [
    {
     "name": "stdout",
     "output_type": "stream",
     "text": [
      "Lowering case...\n",
      "Cleaning numbers...\n",
      "Cleaning punctuation...\n"
     ]
    }
   ],
   "source": [
    "\n",
    "# Make lower case\n",
    "print ('Lowering case...')\n",
    "df_train[\"clean_text\"] = df_train[\"text\"].str.lower()\n",
    "df_test[\"clean_text\"] = df_test[\"text\"].str.lower()\n",
    "\n",
    "# Remove punctuation\n",
    "import string\n",
    "\n",
    "print ('Cleaning numbers...')\n",
    "print ('Cleaning punctuation...')\n",
    "\n",
    "def remove_punctuation_numbers(text):\n",
    "    punc_numbers = string.punctuation + '0123456789'\n",
    "    return ''.join([l for l in text if l not in punc_numbers])\n",
    "\n",
    "df_train[\"clean_text\"] = df_train[\"clean_text\"].apply(remove_punctuation_numbers)\n",
    "df_test[\"clean_text\"] = df_test[\"clean_text\"].apply(remove_punctuation_numbers)\n"
   ]
  },
  {
   "cell_type": "code",
   "execution_count": 41,
   "id": "59b3832a-22f0-4692-9725-4111074a4965",
   "metadata": {},
   "outputs": [
    {
     "data": {
      "text/html": [
       "<div>\n",
       "<style scoped>\n",
       "    .dataframe tbody tr th:only-of-type {\n",
       "        vertical-align: middle;\n",
       "    }\n",
       "\n",
       "    .dataframe tbody tr th {\n",
       "        vertical-align: top;\n",
       "    }\n",
       "\n",
       "    .dataframe thead th {\n",
       "        text-align: right;\n",
       "    }\n",
       "</style>\n",
       "<table border=\"1\" class=\"dataframe\">\n",
       "  <thead>\n",
       "    <tr style=\"text-align: right;\">\n",
       "      <th></th>\n",
       "      <th>lang_id</th>\n",
       "      <th>text</th>\n",
       "      <th>clean_text</th>\n",
       "    </tr>\n",
       "  </thead>\n",
       "  <tbody>\n",
       "    <tr>\n",
       "      <th>0</th>\n",
       "      <td>xho</td>\n",
       "      <td>umgaqo-siseko wenza amalungiselelo kumaziko ax...</td>\n",
       "      <td>umgaqosiseko wenza amalungiselelo kumaziko axh...</td>\n",
       "    </tr>\n",
       "    <tr>\n",
       "      <th>1</th>\n",
       "      <td>xho</td>\n",
       "      <td>i-dha iya kuba nobulumko bokubeka umsebenzi na...</td>\n",
       "      <td>idha iya kuba nobulumko bokubeka umsebenzi nap...</td>\n",
       "    </tr>\n",
       "    <tr>\n",
       "      <th>2</th>\n",
       "      <td>eng</td>\n",
       "      <td>the province of kwazulu-natal department of tr...</td>\n",
       "      <td>the province of kwazulunatal department of tra...</td>\n",
       "    </tr>\n",
       "    <tr>\n",
       "      <th>3</th>\n",
       "      <td>nso</td>\n",
       "      <td>o netefatša gore o ba file dilo ka moka tše le...</td>\n",
       "      <td>o netefatša gore o ba file dilo ka moka tše le...</td>\n",
       "    </tr>\n",
       "    <tr>\n",
       "      <th>4</th>\n",
       "      <td>ven</td>\n",
       "      <td>khomishini ya ndinganyiso ya mbeu yo ewa maana...</td>\n",
       "      <td>khomishini ya ndinganyiso ya mbeu yo ewa maana...</td>\n",
       "    </tr>\n",
       "    <tr>\n",
       "      <th>5</th>\n",
       "      <td>nso</td>\n",
       "      <td>dinyakišišo tše tša go dirwa gabedi ka ngwaga ...</td>\n",
       "      <td>dinyakišišo tše tša go dirwa gabedi ka ngwaga ...</td>\n",
       "    </tr>\n",
       "    <tr>\n",
       "      <th>6</th>\n",
       "      <td>tsn</td>\n",
       "      <td>kgetse nngwe le nngwe e e sa faposiwang mo tsh...</td>\n",
       "      <td>kgetse nngwe le nngwe e e sa faposiwang mo tsh...</td>\n",
       "    </tr>\n",
       "    <tr>\n",
       "      <th>7</th>\n",
       "      <td>ven</td>\n",
       "      <td>mbadelo dze dza laelwa dzi do kwama mahatulele...</td>\n",
       "      <td>mbadelo dze dza laelwa dzi do kwama mahatulele...</td>\n",
       "    </tr>\n",
       "    <tr>\n",
       "      <th>8</th>\n",
       "      <td>nso</td>\n",
       "      <td>maloko a dikhuduthamaga a ikarabela mongwe le ...</td>\n",
       "      <td>maloko a dikhuduthamaga a ikarabela mongwe le ...</td>\n",
       "    </tr>\n",
       "    <tr>\n",
       "      <th>9</th>\n",
       "      <td>tsn</td>\n",
       "      <td>fa le dirisiwa lebone le tshwanetse go bontsha...</td>\n",
       "      <td>fa le dirisiwa lebone le tshwanetse go bontsha...</td>\n",
       "    </tr>\n",
       "  </tbody>\n",
       "</table>\n",
       "</div>"
      ],
      "text/plain": [
       "  lang_id                                               text  \\\n",
       "0     xho  umgaqo-siseko wenza amalungiselelo kumaziko ax...   \n",
       "1     xho  i-dha iya kuba nobulumko bokubeka umsebenzi na...   \n",
       "2     eng  the province of kwazulu-natal department of tr...   \n",
       "3     nso  o netefatša gore o ba file dilo ka moka tše le...   \n",
       "4     ven  khomishini ya ndinganyiso ya mbeu yo ewa maana...   \n",
       "5     nso  dinyakišišo tše tša go dirwa gabedi ka ngwaga ...   \n",
       "6     tsn  kgetse nngwe le nngwe e e sa faposiwang mo tsh...   \n",
       "7     ven  mbadelo dze dza laelwa dzi do kwama mahatulele...   \n",
       "8     nso  maloko a dikhuduthamaga a ikarabela mongwe le ...   \n",
       "9     tsn  fa le dirisiwa lebone le tshwanetse go bontsha...   \n",
       "\n",
       "                                          clean_text  \n",
       "0  umgaqosiseko wenza amalungiselelo kumaziko axh...  \n",
       "1  idha iya kuba nobulumko bokubeka umsebenzi nap...  \n",
       "2  the province of kwazulunatal department of tra...  \n",
       "3  o netefatša gore o ba file dilo ka moka tše le...  \n",
       "4  khomishini ya ndinganyiso ya mbeu yo ewa maana...  \n",
       "5  dinyakišišo tše tša go dirwa gabedi ka ngwaga ...  \n",
       "6  kgetse nngwe le nngwe e e sa faposiwang mo tsh...  \n",
       "7  mbadelo dze dza laelwa dzi do kwama mahatulele...  \n",
       "8  maloko a dikhuduthamaga a ikarabela mongwe le ...  \n",
       "9  fa le dirisiwa lebone le tshwanetse go bontsha...  "
      ]
     },
     "execution_count": 41,
     "metadata": {},
     "output_type": "execute_result"
    }
   ],
   "source": [
    "\n",
    "# Viewing the first 10 rows\n",
    "df_train.head(10)\n"
   ]
  },
  {
   "cell_type": "code",
   "execution_count": 42,
   "id": "a54e91a0-d11a-46b8-bde0-5fb083f8a9c5",
   "metadata": {},
   "outputs": [
    {
     "data": {
      "text/html": [
       "<div>\n",
       "<style scoped>\n",
       "    .dataframe tbody tr th:only-of-type {\n",
       "        vertical-align: middle;\n",
       "    }\n",
       "\n",
       "    .dataframe tbody tr th {\n",
       "        vertical-align: top;\n",
       "    }\n",
       "\n",
       "    .dataframe thead th {\n",
       "        text-align: right;\n",
       "    }\n",
       "</style>\n",
       "<table border=\"1\" class=\"dataframe\">\n",
       "  <thead>\n",
       "    <tr style=\"text-align: right;\">\n",
       "      <th></th>\n",
       "      <th>lang_id</th>\n",
       "      <th>text</th>\n",
       "      <th>clean_text</th>\n",
       "    </tr>\n",
       "  </thead>\n",
       "  <tbody>\n",
       "    <tr>\n",
       "      <th>32990</th>\n",
       "      <td>eng</td>\n",
       "      <td>government has a long-term programme for the u...</td>\n",
       "      <td>government has a longterm programme for the up...</td>\n",
       "    </tr>\n",
       "    <tr>\n",
       "      <th>32991</th>\n",
       "      <td>nso</td>\n",
       "      <td>mo kgopelo e dirilwego go ya ka karolo ya go b...</td>\n",
       "      <td>mo kgopelo e dirilwego go ya ka karolo ya go b...</td>\n",
       "    </tr>\n",
       "    <tr>\n",
       "      <th>32992</th>\n",
       "      <td>zul</td>\n",
       "      <td>a umqondisi-jikelele azise umuntu okukhulunywa...</td>\n",
       "      <td>a umqondisijikelele azise umuntu okukhulunywa ...</td>\n",
       "    </tr>\n",
       "    <tr>\n",
       "      <th>32993</th>\n",
       "      <td>nso</td>\n",
       "      <td>molawana o akaretša mesepelo ka moka ya baname...</td>\n",
       "      <td>molawana o akaretša mesepelo ka moka ya baname...</td>\n",
       "    </tr>\n",
       "    <tr>\n",
       "      <th>32994</th>\n",
       "      <td>eng</td>\n",
       "      <td>manuel marin s ill-fated debt sources but very...</td>\n",
       "      <td>manuel marin s illfated debt sources but very ...</td>\n",
       "    </tr>\n",
       "    <tr>\n",
       "      <th>32995</th>\n",
       "      <td>tsn</td>\n",
       "      <td>popo ya dipolateforomo tse ke go tlisa boetele...</td>\n",
       "      <td>popo ya dipolateforomo tse ke go tlisa boetele...</td>\n",
       "    </tr>\n",
       "    <tr>\n",
       "      <th>32996</th>\n",
       "      <td>sot</td>\n",
       "      <td>modise mosadi na o ntse o sa utlwe hore thaban...</td>\n",
       "      <td>modise mosadi na o ntse o sa utlwe hore thaban...</td>\n",
       "    </tr>\n",
       "    <tr>\n",
       "      <th>32997</th>\n",
       "      <td>eng</td>\n",
       "      <td>closing date for the submission of completed t...</td>\n",
       "      <td>closing date for the submission of completed t...</td>\n",
       "    </tr>\n",
       "    <tr>\n",
       "      <th>32998</th>\n",
       "      <td>xho</td>\n",
       "      <td>nawuphina umntu ofunyenwe enetyala phantsi kwa...</td>\n",
       "      <td>nawuphina umntu ofunyenwe enetyala phantsi kwa...</td>\n",
       "    </tr>\n",
       "    <tr>\n",
       "      <th>32999</th>\n",
       "      <td>sot</td>\n",
       "      <td>mafapha a mang le ona a lokela ho etsa ditlale...</td>\n",
       "      <td>mafapha a mang le ona a lokela ho etsa ditlale...</td>\n",
       "    </tr>\n",
       "  </tbody>\n",
       "</table>\n",
       "</div>"
      ],
      "text/plain": [
       "      lang_id                                               text  \\\n",
       "32990     eng  government has a long-term programme for the u...   \n",
       "32991     nso  mo kgopelo e dirilwego go ya ka karolo ya go b...   \n",
       "32992     zul  a umqondisi-jikelele azise umuntu okukhulunywa...   \n",
       "32993     nso  molawana o akaretša mesepelo ka moka ya baname...   \n",
       "32994     eng  manuel marin s ill-fated debt sources but very...   \n",
       "32995     tsn  popo ya dipolateforomo tse ke go tlisa boetele...   \n",
       "32996     sot  modise mosadi na o ntse o sa utlwe hore thaban...   \n",
       "32997     eng  closing date for the submission of completed t...   \n",
       "32998     xho  nawuphina umntu ofunyenwe enetyala phantsi kwa...   \n",
       "32999     sot  mafapha a mang le ona a lokela ho etsa ditlale...   \n",
       "\n",
       "                                              clean_text  \n",
       "32990  government has a longterm programme for the up...  \n",
       "32991  mo kgopelo e dirilwego go ya ka karolo ya go b...  \n",
       "32992  a umqondisijikelele azise umuntu okukhulunywa ...  \n",
       "32993  molawana o akaretša mesepelo ka moka ya baname...  \n",
       "32994  manuel marin s illfated debt sources but very ...  \n",
       "32995  popo ya dipolateforomo tse ke go tlisa boetele...  \n",
       "32996  modise mosadi na o ntse o sa utlwe hore thaban...  \n",
       "32997  closing date for the submission of completed t...  \n",
       "32998  nawuphina umntu ofunyenwe enetyala phantsi kwa...  \n",
       "32999  mafapha a mang le ona a lokela ho etsa ditlale...  "
      ]
     },
     "execution_count": 42,
     "metadata": {},
     "output_type": "execute_result"
    }
   ],
   "source": [
    "\n",
    "# Viewing the last 10 rows\n",
    "df_train.tail(10)\n"
   ]
  },
  {
   "cell_type": "code",
   "execution_count": 43,
   "id": "baa603d3-7e71-4251-8f4f-5e2a8df9f4e3",
   "metadata": {},
   "outputs": [
    {
     "data": {
      "text/html": [
       "<div>\n",
       "<style scoped>\n",
       "    .dataframe tbody tr th:only-of-type {\n",
       "        vertical-align: middle;\n",
       "    }\n",
       "\n",
       "    .dataframe tbody tr th {\n",
       "        vertical-align: top;\n",
       "    }\n",
       "\n",
       "    .dataframe thead th {\n",
       "        text-align: right;\n",
       "    }\n",
       "</style>\n",
       "<table border=\"1\" class=\"dataframe\">\n",
       "  <thead>\n",
       "    <tr style=\"text-align: right;\">\n",
       "      <th></th>\n",
       "      <th>index</th>\n",
       "      <th>text</th>\n",
       "      <th>clean_text</th>\n",
       "    </tr>\n",
       "  </thead>\n",
       "  <tbody>\n",
       "    <tr>\n",
       "      <th>0</th>\n",
       "      <td>1</td>\n",
       "      <td>Mmasepala, fa maemo a a kgethegileng a letlele...</td>\n",
       "      <td>mmasepala fa maemo a a kgethegileng a letlelel...</td>\n",
       "    </tr>\n",
       "    <tr>\n",
       "      <th>1</th>\n",
       "      <td>2</td>\n",
       "      <td>Uzakwaziswa ngokufaneleko nakungafuneka eminye...</td>\n",
       "      <td>uzakwaziswa ngokufaneleko nakungafuneka eminye...</td>\n",
       "    </tr>\n",
       "    <tr>\n",
       "      <th>2</th>\n",
       "      <td>3</td>\n",
       "      <td>Tshivhumbeo tshi fana na ngano dza vhathu.</td>\n",
       "      <td>tshivhumbeo tshi fana na ngano dza vhathu</td>\n",
       "    </tr>\n",
       "    <tr>\n",
       "      <th>3</th>\n",
       "      <td>4</td>\n",
       "      <td>Kube inja nelikati betingevakala kutsi titsini...</td>\n",
       "      <td>kube inja nelikati betingevakala kutsi titsini...</td>\n",
       "    </tr>\n",
       "    <tr>\n",
       "      <th>4</th>\n",
       "      <td>5</td>\n",
       "      <td>Winste op buitelandse valuta.</td>\n",
       "      <td>winste op buitelandse valuta</td>\n",
       "    </tr>\n",
       "    <tr>\n",
       "      <th>5</th>\n",
       "      <td>6</td>\n",
       "      <td>Ke feela dilense tše hlakilego, tša pono e tee...</td>\n",
       "      <td>ke feela dilense tše hlakilego tša pono e tee ...</td>\n",
       "    </tr>\n",
       "    <tr>\n",
       "      <th>6</th>\n",
       "      <td>7</td>\n",
       "      <td>&lt;fn&gt;(762010101403 AM) 1495 Final Gems Birthing...</td>\n",
       "      <td>fn am  final gems birthing optionszulutxtfn</td>\n",
       "    </tr>\n",
       "    <tr>\n",
       "      <th>7</th>\n",
       "      <td>8</td>\n",
       "      <td>Ntjhafatso ya konteraka ya mosebetsi: Etsa bon...</td>\n",
       "      <td>ntjhafatso ya konteraka ya mosebetsi etsa bonn...</td>\n",
       "    </tr>\n",
       "    <tr>\n",
       "      <th>8</th>\n",
       "      <td>9</td>\n",
       "      <td>u-GEMS uhlinzeka ngezinzuzo zemithi yezifo ezi...</td>\n",
       "      <td>ugems uhlinzeka ngezinzuzo zemithi yezifo ezin...</td>\n",
       "    </tr>\n",
       "    <tr>\n",
       "      <th>9</th>\n",
       "      <td>10</td>\n",
       "      <td>So, on occasion, are statistics misused.</td>\n",
       "      <td>so on occasion are statistics misused</td>\n",
       "    </tr>\n",
       "  </tbody>\n",
       "</table>\n",
       "</div>"
      ],
      "text/plain": [
       "   index                                               text  \\\n",
       "0      1  Mmasepala, fa maemo a a kgethegileng a letlele...   \n",
       "1      2  Uzakwaziswa ngokufaneleko nakungafuneka eminye...   \n",
       "2      3         Tshivhumbeo tshi fana na ngano dza vhathu.   \n",
       "3      4  Kube inja nelikati betingevakala kutsi titsini...   \n",
       "4      5                      Winste op buitelandse valuta.   \n",
       "5      6  Ke feela dilense tše hlakilego, tša pono e tee...   \n",
       "6      7  <fn>(762010101403 AM) 1495 Final Gems Birthing...   \n",
       "7      8  Ntjhafatso ya konteraka ya mosebetsi: Etsa bon...   \n",
       "8      9  u-GEMS uhlinzeka ngezinzuzo zemithi yezifo ezi...   \n",
       "9     10           So, on occasion, are statistics misused.   \n",
       "\n",
       "                                          clean_text  \n",
       "0  mmasepala fa maemo a a kgethegileng a letlelel...  \n",
       "1  uzakwaziswa ngokufaneleko nakungafuneka eminye...  \n",
       "2          tshivhumbeo tshi fana na ngano dza vhathu  \n",
       "3  kube inja nelikati betingevakala kutsi titsini...  \n",
       "4                       winste op buitelandse valuta  \n",
       "5  ke feela dilense tše hlakilego tša pono e tee ...  \n",
       "6        fn am  final gems birthing optionszulutxtfn  \n",
       "7  ntjhafatso ya konteraka ya mosebetsi etsa bonn...  \n",
       "8  ugems uhlinzeka ngezinzuzo zemithi yezifo ezin...  \n",
       "9              so on occasion are statistics misused  "
      ]
     },
     "execution_count": 43,
     "metadata": {},
     "output_type": "execute_result"
    }
   ],
   "source": [
    "\n",
    "# Viewing the first 10 rows\n",
    "df_test.head(10)\n"
   ]
  },
  {
   "cell_type": "code",
   "execution_count": 44,
   "id": "daa3ae39-dabf-40f3-9be3-578fc3fefa07",
   "metadata": {},
   "outputs": [
    {
     "data": {
      "text/html": [
       "<div>\n",
       "<style scoped>\n",
       "    .dataframe tbody tr th:only-of-type {\n",
       "        vertical-align: middle;\n",
       "    }\n",
       "\n",
       "    .dataframe tbody tr th {\n",
       "        vertical-align: top;\n",
       "    }\n",
       "\n",
       "    .dataframe thead th {\n",
       "        text-align: right;\n",
       "    }\n",
       "</style>\n",
       "<table border=\"1\" class=\"dataframe\">\n",
       "  <thead>\n",
       "    <tr style=\"text-align: right;\">\n",
       "      <th></th>\n",
       "      <th>index</th>\n",
       "      <th>text</th>\n",
       "      <th>clean_text</th>\n",
       "    </tr>\n",
       "  </thead>\n",
       "  <tbody>\n",
       "    <tr>\n",
       "      <th>5672</th>\n",
       "      <td>5673</td>\n",
       "      <td>Die raad kan van tyd tot tyd en in ooreenstemm...</td>\n",
       "      <td>die raad kan van tyd tot tyd en in ooreenstemm...</td>\n",
       "    </tr>\n",
       "    <tr>\n",
       "      <th>5673</th>\n",
       "      <td>5674</td>\n",
       "      <td>halutshedzo ya ' tshiimo tsha u vha na vhudzim...</td>\n",
       "      <td>halutshedzo ya  tshiimo tsha u vha na vhudzimu...</td>\n",
       "    </tr>\n",
       "    <tr>\n",
       "      <th>5674</th>\n",
       "      <td>5675</td>\n",
       "      <td>botlalo tšeo di hlokegago o mongwe le o mongwe.</td>\n",
       "      <td>botlalo tšeo di hlokegago o mongwe le o mongwe</td>\n",
       "    </tr>\n",
       "    <tr>\n",
       "      <th>5675</th>\n",
       "      <td>5676</td>\n",
       "      <td>Muanewa-muhali. Mafhungo o he a lungano a kwam...</td>\n",
       "      <td>muanewamuhali mafhungo o he a lungano a kwama ...</td>\n",
       "    </tr>\n",
       "    <tr>\n",
       "      <th>5676</th>\n",
       "      <td>5677</td>\n",
       "      <td>Afitafiti go tšwa go leloko go netefatša tlhok...</td>\n",
       "      <td>afitafiti go tšwa go leloko go netefatša tlhok...</td>\n",
       "    </tr>\n",
       "    <tr>\n",
       "      <th>5677</th>\n",
       "      <td>5678</td>\n",
       "      <td>You mark your ballot in private.</td>\n",
       "      <td>you mark your ballot in private</td>\n",
       "    </tr>\n",
       "    <tr>\n",
       "      <th>5678</th>\n",
       "      <td>5679</td>\n",
       "      <td>Ge o ka kgetha ka bowena go se šomiše Mofani k...</td>\n",
       "      <td>ge o ka kgetha ka bowena go se šomiše mofani k...</td>\n",
       "    </tr>\n",
       "    <tr>\n",
       "      <th>5679</th>\n",
       "      <td>5680</td>\n",
       "      <td>E Ka kopo etsa kgetho ya hao ka hloko, hobane ...</td>\n",
       "      <td>e ka kopo etsa kgetho ya hao ka hloko hobane h...</td>\n",
       "    </tr>\n",
       "    <tr>\n",
       "      <th>5680</th>\n",
       "      <td>5681</td>\n",
       "      <td>TB ke bokudi ba PMB, mme Morero o tla lefella ...</td>\n",
       "      <td>tb ke bokudi ba pmb mme morero o tla lefella t...</td>\n",
       "    </tr>\n",
       "    <tr>\n",
       "      <th>5681</th>\n",
       "      <td>5682</td>\n",
       "      <td>Vakatjhela iwebhusayidi yethu ku-www.</td>\n",
       "      <td>vakatjhela iwebhusayidi yethu kuwww</td>\n",
       "    </tr>\n",
       "  </tbody>\n",
       "</table>\n",
       "</div>"
      ],
      "text/plain": [
       "      index                                               text  \\\n",
       "5672   5673  Die raad kan van tyd tot tyd en in ooreenstemm...   \n",
       "5673   5674  halutshedzo ya ' tshiimo tsha u vha na vhudzim...   \n",
       "5674   5675    botlalo tšeo di hlokegago o mongwe le o mongwe.   \n",
       "5675   5676  Muanewa-muhali. Mafhungo o he a lungano a kwam...   \n",
       "5676   5677  Afitafiti go tšwa go leloko go netefatša tlhok...   \n",
       "5677   5678                   You mark your ballot in private.   \n",
       "5678   5679  Ge o ka kgetha ka bowena go se šomiše Mofani k...   \n",
       "5679   5680  E Ka kopo etsa kgetho ya hao ka hloko, hobane ...   \n",
       "5680   5681  TB ke bokudi ba PMB, mme Morero o tla lefella ...   \n",
       "5681   5682              Vakatjhela iwebhusayidi yethu ku-www.   \n",
       "\n",
       "                                             clean_text  \n",
       "5672  die raad kan van tyd tot tyd en in ooreenstemm...  \n",
       "5673  halutshedzo ya  tshiimo tsha u vha na vhudzimu...  \n",
       "5674     botlalo tšeo di hlokegago o mongwe le o mongwe  \n",
       "5675  muanewamuhali mafhungo o he a lungano a kwama ...  \n",
       "5676  afitafiti go tšwa go leloko go netefatša tlhok...  \n",
       "5677                    you mark your ballot in private  \n",
       "5678  ge o ka kgetha ka bowena go se šomiše mofani k...  \n",
       "5679  e ka kopo etsa kgetho ya hao ka hloko hobane h...  \n",
       "5680  tb ke bokudi ba pmb mme morero o tla lefella t...  \n",
       "5681                vakatjhela iwebhusayidi yethu kuwww  "
      ]
     },
     "execution_count": 44,
     "metadata": {},
     "output_type": "execute_result"
    }
   ],
   "source": [
    "\n",
    "# Viewing the last 10 rows\n",
    "df_test.tail(10)\n"
   ]
  },
  {
   "cell_type": "markdown",
   "id": "9add37b7-2fb2-4901-80dc-f1f5b66f0d4c",
   "metadata": {},
   "source": [
    " \n",
    "-----------------------------------------------------------------------------------------------------\n",
    " "
   ]
  },
  {
   "cell_type": "markdown",
   "id": "1a25d149-4e13-472a-84da-7b93962f7fd9",
   "metadata": {},
   "source": [
    "///////////////////////////////////////////////////////////////////////////////////////////////////////////////////////////////////////////////////////////////////////////////////////////////////"
   ]
  },
  {
   "cell_type": "markdown",
   "id": "73134670-6c5e-424b-a5c5-ff49dde6e639",
   "metadata": {},
   "source": [
    "\n",
    "<a id=\"five\"></a>\n",
    "## 5. Modelling\n",
    "<a class=\"anchor\" id=\"1.1\"></a>\n",
    "<a href=#cont>Back to Table of Contents</a>\n"
   ]
  },
  {
   "cell_type": "markdown",
   "id": "d7958c8b-0af2-440e-9d95-88e73d90b7b4",
   "metadata": {},
   "source": [
    "\n",
    "- Feature extraction\n"
   ]
  },
  {
   "cell_type": "code",
   "execution_count": 45,
   "id": "acbb16b4-a15a-40be-b83e-63850ca23629",
   "metadata": {},
   "outputs": [],
   "source": [
    "\n",
    "# Feature extraction using the 'CountVectorizer'\n",
    "betterVect = CountVectorizer(min_df=2,\n",
    "                             max_df=0.5,\n",
    "                             ngram_range=(1, 1))\n"
   ]
  },
  {
   "cell_type": "code",
   "execution_count": 46,
   "id": "5e799b2e-b67b-4645-871d-1a8022babd48",
   "metadata": {},
   "outputs": [],
   "source": [
    "\n",
    "# Defining variables\n",
    "X = betterVect.fit_transform(df_train[\"text\"])\n",
    "\n",
    "y = df_train[\"lang_id\"]  \n"
   ]
  },
  {
   "cell_type": "code",
   "execution_count": 47,
   "id": "5d60b8b4-fb45-4341-8651-0ffffbf2c1a5",
   "metadata": {},
   "outputs": [],
   "source": [
    "\n",
    "# Spliting the 'df_train' using the 'train-test_split' \n",
    "X_train, X_test, y_train, y_test = train_test_split(X, y, test_size = 0.2, random_state = 42)\n"
   ]
  },
  {
   "cell_type": "markdown",
   "id": "bde7bbbc-e08c-408c-a441-1d47efe3d099",
   "metadata": {},
   "source": [
    "\n",
    "- Building some classification models\n"
   ]
  },
  {
   "cell_type": "code",
   "execution_count": 48,
   "id": "d6935b6a-1b1e-4412-82a0-ae7293825d78",
   "metadata": {},
   "outputs": [],
   "source": [
    "\n",
    "names = [\"Logistic Regression\", \"Random Forest\", \"Naive Bayes\"]\n"
   ]
  },
  {
   "cell_type": "code",
   "execution_count": 49,
   "id": "756cd75b-8023-41f1-b0b5-7d75045728fe",
   "metadata": {},
   "outputs": [],
   "source": [
    "\n",
    "classifiers = [\n",
    "    LogisticRegression(),\n",
    "    \n",
    "    RandomForestClassifier(max_depth = 5, n_estimators = 1, max_features = 1),\n",
    "    \n",
    "    MultinomialNB(alpha = 0.3)\n",
    "]\n"
   ]
  },
  {
   "cell_type": "code",
   "execution_count": null,
   "id": "0cba3e30-8af3-4079-ae3e-e745da55f8fd",
   "metadata": {},
   "outputs": [
    {
     "name": "stdout",
     "output_type": "stream",
     "text": [
      "Fitting Logistic Regression model...\n"
     ]
    },
    {
     "name": "stderr",
     "output_type": "stream",
     "text": [
      "C:\\Users\\F5470811\\ANACONDA\\lib\\site-packages\\sklearn\\linear_model\\_logistic.py:444: ConvergenceWarning: lbfgs failed to converge (status=1):\n",
      "STOP: TOTAL NO. of ITERATIONS REACHED LIMIT.\n",
      "\n",
      "Increase the number of iterations (max_iter) or scale the data as shown in:\n",
      "    https://scikit-learn.org/stable/modules/preprocessing.html\n",
      "Please also refer to the documentation for alternative solver options:\n",
      "    https://scikit-learn.org/stable/modules/linear_model.html#logistic-regression\n",
      "  n_iter_i = _check_optimize_result(\n",
      "C:\\Users\\F5470811\\ANACONDA\\lib\\site-packages\\sklearn\\linear_model\\_logistic.py:444: ConvergenceWarning: lbfgs failed to converge (status=1):\n",
      "STOP: TOTAL NO. of ITERATIONS REACHED LIMIT.\n",
      "\n",
      "Increase the number of iterations (max_iter) or scale the data as shown in:\n",
      "    https://scikit-learn.org/stable/modules/preprocessing.html\n",
      "Please also refer to the documentation for alternative solver options:\n",
      "    https://scikit-learn.org/stable/modules/linear_model.html#logistic-regression\n",
      "  n_iter_i = _check_optimize_result(\n",
      "C:\\Users\\F5470811\\ANACONDA\\lib\\site-packages\\sklearn\\linear_model\\_logistic.py:444: ConvergenceWarning: lbfgs failed to converge (status=1):\n",
      "STOP: TOTAL NO. of ITERATIONS REACHED LIMIT.\n",
      "\n",
      "Increase the number of iterations (max_iter) or scale the data as shown in:\n",
      "    https://scikit-learn.org/stable/modules/preprocessing.html\n",
      "Please also refer to the documentation for alternative solver options:\n",
      "    https://scikit-learn.org/stable/modules/linear_model.html#logistic-regression\n",
      "  n_iter_i = _check_optimize_result(\n",
      "C:\\Users\\F5470811\\ANACONDA\\lib\\site-packages\\sklearn\\linear_model\\_logistic.py:444: ConvergenceWarning: lbfgs failed to converge (status=1):\n",
      "STOP: TOTAL NO. of ITERATIONS REACHED LIMIT.\n",
      "\n",
      "Increase the number of iterations (max_iter) or scale the data as shown in:\n",
      "    https://scikit-learn.org/stable/modules/preprocessing.html\n",
      "Please also refer to the documentation for alternative solver options:\n",
      "    https://scikit-learn.org/stable/modules/linear_model.html#logistic-regression\n",
      "  n_iter_i = _check_optimize_result(\n",
      "C:\\Users\\F5470811\\ANACONDA\\lib\\site-packages\\sklearn\\linear_model\\_logistic.py:444: ConvergenceWarning: lbfgs failed to converge (status=1):\n",
      "STOP: TOTAL NO. of ITERATIONS REACHED LIMIT.\n",
      "\n",
      "Increase the number of iterations (max_iter) or scale the data as shown in:\n",
      "    https://scikit-learn.org/stable/modules/preprocessing.html\n",
      "Please also refer to the documentation for alternative solver options:\n",
      "    https://scikit-learn.org/stable/modules/linear_model.html#logistic-regression\n",
      "  n_iter_i = _check_optimize_result(\n",
      "C:\\Users\\F5470811\\ANACONDA\\lib\\site-packages\\sklearn\\linear_model\\_logistic.py:444: ConvergenceWarning: lbfgs failed to converge (status=1):\n",
      "STOP: TOTAL NO. of ITERATIONS REACHED LIMIT.\n",
      "\n",
      "Increase the number of iterations (max_iter) or scale the data as shown in:\n",
      "    https://scikit-learn.org/stable/modules/preprocessing.html\n",
      "Please also refer to the documentation for alternative solver options:\n",
      "    https://scikit-learn.org/stable/modules/linear_model.html#logistic-regression\n",
      "  n_iter_i = _check_optimize_result(\n",
      "C:\\Users\\F5470811\\ANACONDA\\lib\\site-packages\\sklearn\\linear_model\\_logistic.py:444: ConvergenceWarning: lbfgs failed to converge (status=1):\n",
      "STOP: TOTAL NO. of ITERATIONS REACHED LIMIT.\n",
      "\n",
      "Increase the number of iterations (max_iter) or scale the data as shown in:\n",
      "    https://scikit-learn.org/stable/modules/preprocessing.html\n",
      "Please also refer to the documentation for alternative solver options:\n",
      "    https://scikit-learn.org/stable/modules/linear_model.html#logistic-regression\n",
      "  n_iter_i = _check_optimize_result(\n"
     ]
    }
   ],
   "source": [
    "\n",
    "results = []\n",
    "\n",
    "models = {}\n",
    "confusion = {}\n",
    "class_report = {}\n",
    "\n",
    "for name, clf in zip(names, classifiers):\n",
    "    print ('Fitting {:s} model...'.format(name))\n",
    "    run_time = %timeit -q -o clf.fit(X_train, y_train)\n",
    "\n",
    "    print ('... predicting')\n",
    "    y_pred = clf.predict(X_train)\n",
    "    y_pred_test = clf.predict(X_test)\n",
    "\n",
    "    print ('... scoring')\n",
    "    accuracy  = metrics.accuracy_score(y_train, y_pred)\n",
    "    precision = metrics.precision_score(y_train, y_pred, average = \"weighted\")\n",
    "    recall    = metrics.recall_score(y_train, y_pred, average = \"weighted\")\n",
    "\n",
    "    f1        = metrics.f1_score(y_train, y_pred, average = \"weighted\")\n",
    "    f1_test   = metrics.f1_score(y_test, y_pred_test, average = \"weighted\")\n",
    "\n",
    "    # Save the results to dictionaries\n",
    "    models[name] = clf\n",
    "    confusion[name] = metrics.confusion_matrix(y_train, y_pred)\n",
    "    class_report[name] = metrics.classification_report(y_train, y_pred)\n",
    "\n",
    "    results.append([name, accuracy, precision, recall, f1, f1_test, run_time.best])\n",
    "\n",
    "\n",
    "results = pd.DataFrame(results, columns=['Classifier', 'Accuracy', 'Precision', 'Recall', 'F1 Train', 'F1 Test', 'Train Time'])\n",
    "results.set_index('Classifier', inplace= True)\n",
    "\n",
    "print ('... All done!')\n"
   ]
  },
  {
   "cell_type": "markdown",
   "id": "d281eec0-8e8b-4f2d-8558-1bc949c8221f",
   "metadata": {},
   "source": [
    "\n",
    "Here is the results of three models\n"
   ]
  },
  {
   "cell_type": "code",
   "execution_count": null,
   "id": "521f1dd7-9ccd-4d6a-bc6a-dd77a98dad95",
   "metadata": {},
   "outputs": [],
   "source": [
    "\n",
    "# Visualizing my results\n",
    "results.sort_values('F1 Train', ascending = False)\n"
   ]
  },
  {
   "cell_type": "markdown",
   "id": "b986bdcd-f4cd-4064-81da-e2656cb268b3",
   "metadata": {},
   "source": [
    "\n",
    "Here is the plot of these values to view them visually to make sense of them.\n"
   ]
  },
  {
   "cell_type": "code",
   "execution_count": null,
   "id": "8cf6837c-7c8a-4ccf-9b38-11435dc08db2",
   "metadata": {},
   "outputs": [],
   "source": [
    "\n",
    "# Plotting the bar graph to compare visually\n",
    "fig, ax = plt.subplots(1, 2, figsize = (10, 5))\n",
    "results.sort_values(\"F1 Train\", ascending = False, inplace = True)\n",
    "results.plot(y = [\"F1 Test\"], kind=  \"bar\", ax = ax[0], xlim = [0, 1.1], ylim = [0.85, 0.92])\n",
    "results.plot(y = \"Train Time\", kind = \"bar\", ax = ax[1])\n"
   ]
  },
  {
   "cell_type": "code",
   "execution_count": null,
   "id": "2a9df31a-3254-4cc0-bb49-8f6f4fa8972c",
   "metadata": {},
   "outputs": [],
   "source": [
    "\n",
    "# Printing out the classification repoert of all the models\n",
    "print(\"Logistic Regression Classification Report\")\n",
    "print(class_report[\"Logistic Regression\"])\n",
    "print(\"\\n\")\n",
    "\n",
    "print(\"Random Forest Classification Report\")\n",
    "print(class_report[\"Random Forest\"])\n",
    "print(\"\\n\")\n",
    "\n",
    "print(\"Multinomial Naive Bayes Classification Report\")\n",
    "print(class_report[\"Naive Bayes\"])\n"
   ]
  },
  {
   "cell_type": "code",
   "execution_count": null,
   "id": "9dcbb648-a964-4a56-a9b4-70b31e2c5cc5",
   "metadata": {},
   "outputs": [],
   "source": [
    "\n",
    "model = MultinomialNB(alpha = 0.1)\n",
    "model.fit(X_train, y_train)\n"
   ]
  },
  {
   "cell_type": "code",
   "execution_count": null,
   "id": "3bfafad9-d00e-44c5-923f-490169278b97",
   "metadata": {},
   "outputs": [],
   "source": [
    "\n",
    "# Creating a 'csv' file and saving it for kaggle submission\n",
    "predict = model.predict(X_test)\n",
    "\n",
    "submission = pd.DataFrame(df_test[\"index\"])\n",
    "\n",
    "test_text = df_test[\"text\"]\n",
    "\n",
    "test_vec = betterVect.transform(test_text)\n",
    "\n",
    "y_pred = model.predict(test_vec)\n",
    "\n",
    "submission[\"lang_id\"] = y_pred\n",
    "\n",
    "submission.to_csv(\"submission_final.csv\", index = False)\n"
   ]
  },
  {
   "cell_type": "code",
   "execution_count": null,
   "id": "9cb97543-5c6c-4571-82b0-1816af8e079a",
   "metadata": {},
   "outputs": [],
   "source": [
    "\n",
    "# Viewing the first 20 rows to see the predictions\n",
    "submission.head(20)\n"
   ]
  },
  {
   "cell_type": "code",
   "execution_count": null,
   "id": "27c4febd-7ee0-49c7-80db-bb6d93dd39e1",
   "metadata": {},
   "outputs": [],
   "source": [
    "\n",
    "# Viewing the last 20 rows to see the predictions\n",
    "submission.tail(20) \n"
   ]
  },
  {
   "cell_type": "markdown",
   "id": "96b8fb64-dd48-40aa-9774-517cb64c6bbe",
   "metadata": {},
   "source": [
    " \n",
    "-----------------------------------------------------------------------------------------------------\n",
    " "
   ]
  },
  {
   "cell_type": "markdown",
   "id": "3c1f8d5e-090d-40e4-af44-548f8aaf861b",
   "metadata": {},
   "source": [
    "///////////////////////////////////////////////////////////////////////////////////////////////////////////////////////////////////////////////////////////////////////////////////////////////////"
   ]
  },
  {
   "cell_type": "markdown",
   "id": "a65cfcb9-dcc1-4f62-b230-07f098824115",
   "metadata": {},
   "source": [
    "\n",
    "<a id=\"six\"></a>\n",
    "## 6. Model Explanations\n",
    "<a class=\"anchor\" id=\"1.1\"></a>\n",
    "<a href=#cont>Back to Table of Contents</a>\n"
   ]
  },
  {
   "cell_type": "markdown",
   "id": "a7348984-dcd0-4071-a60e-6aa830447e9e",
   "metadata": {},
   "source": [
    "\n",
    "In conclusion, I discovered that the `Naive Bayes` and `Logistic Regression` models have performed the same by having the same f1_score and accuracy_score from the classifictaion report I displyed above. On the other hand the `Random Forest` model perfomed bad compared to other models.\n",
    "\n",
    "To further improve the performance of my models I will use Hyper-parameter tuning.\n"
   ]
  }
 ],
 "metadata": {
  "kernelspec": {
   "display_name": "Python 3 (ipykernel)",
   "language": "python",
   "name": "python3"
  },
  "language_info": {
   "codemirror_mode": {
    "name": "ipython",
    "version": 3
   },
   "file_extension": ".py",
   "mimetype": "text/x-python",
   "name": "python",
   "nbconvert_exporter": "python",
   "pygments_lexer": "ipython3",
   "version": "3.9.7"
  }
 },
 "nbformat": 4,
 "nbformat_minor": 5
}
